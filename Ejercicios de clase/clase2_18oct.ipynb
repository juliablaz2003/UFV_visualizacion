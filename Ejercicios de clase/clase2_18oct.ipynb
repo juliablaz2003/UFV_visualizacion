{
  "nbformat": 4,
  "nbformat_minor": 0,
  "metadata": {
    "colab": {
      "provenance": [],
      "authorship_tag": "ABX9TyPF5mbYbZuuVnPDsvaHBpQJ",
      "include_colab_link": true
    },
    "kernelspec": {
      "name": "python3",
      "display_name": "Python 3"
    },
    "language_info": {
      "name": "python"
    }
  },
  "cells": [
    {
      "cell_type": "markdown",
      "metadata": {
        "id": "view-in-github",
        "colab_type": "text"
      },
      "source": [
        "<a href=\"https://colab.research.google.com/github/juliablaz2003/UFV_visualizacion/blob/main/Ejercicios%20de%20clase/clase2_18oct.ipynb\" target=\"_parent\"><img src=\"https://colab.research.google.com/assets/colab-badge.svg\" alt=\"Open In Colab\"/></a>"
      ]
    },
    {
      "cell_type": "markdown",
      "source": [
        "# PRACTICA 1"
      ],
      "metadata": {
        "id": "_zgY9M1XkyDK"
      }
    },
    {
      "cell_type": "markdown",
      "source": [
        "Importamos las bibliotecas necesarias y definimos la URL del archivo CSV para leerlo."
      ],
      "metadata": {
        "id": "cyLXDt3DqAfw"
      }
    },
    {
      "cell_type": "code",
      "execution_count": 5,
      "metadata": {
        "colab": {
          "base_uri": "https://localhost:8080/",
          "height": 313
        },
        "id": "plcO50MhbC-F",
        "outputId": "7cdfb166-7653-473a-a121-54b8c0d71f4f"
      },
      "outputs": [
        {
          "output_type": "execute_result",
          "data": {
            "text/plain": [
              "         COUNTRY        SUBBRAND  YEAR  MONTH     SCENARIO FORECAST  \\\n",
              "0       Portugal     Lipton (L3)  2023     12  AI_forecast  AI_P02F   \n",
              "1  Great Britain     Lipton (L3)  2023     12  AI_forecast  AI_P10F   \n",
              "2          Spain  Pepsi Max (L3)  2023     12  AI_forecast  AI_P09F   \n",
              "3  Great Britain        7up (L3)  2024     12  AI_forecast  AI_P10F   \n",
              "4        Hungary     Lipton (L3)  2023      9  AI_forecast  AI_P03F   \n",
              "\n",
              "   FORECAST_YEAR         AMOUNT  \n",
              "0         2023.0  754356.237194  \n",
              "1         2023.0  560030.558029  \n",
              "2         2023.0   88501.980847  \n",
              "3         2023.0  363224.511516  \n",
              "4         2023.0  396176.120491  "
            ],
            "text/html": [
              "\n",
              "  <div id=\"df-938731ea-f8ce-4d3c-b7a1-363af54619b4\" class=\"colab-df-container\">\n",
              "    <div>\n",
              "<style scoped>\n",
              "    .dataframe tbody tr th:only-of-type {\n",
              "        vertical-align: middle;\n",
              "    }\n",
              "\n",
              "    .dataframe tbody tr th {\n",
              "        vertical-align: top;\n",
              "    }\n",
              "\n",
              "    .dataframe thead th {\n",
              "        text-align: right;\n",
              "    }\n",
              "</style>\n",
              "<table border=\"1\" class=\"dataframe\">\n",
              "  <thead>\n",
              "    <tr style=\"text-align: right;\">\n",
              "      <th></th>\n",
              "      <th>COUNTRY</th>\n",
              "      <th>SUBBRAND</th>\n",
              "      <th>YEAR</th>\n",
              "      <th>MONTH</th>\n",
              "      <th>SCENARIO</th>\n",
              "      <th>FORECAST</th>\n",
              "      <th>FORECAST_YEAR</th>\n",
              "      <th>AMOUNT</th>\n",
              "    </tr>\n",
              "  </thead>\n",
              "  <tbody>\n",
              "    <tr>\n",
              "      <th>0</th>\n",
              "      <td>Portugal</td>\n",
              "      <td>Lipton (L3)</td>\n",
              "      <td>2023</td>\n",
              "      <td>12</td>\n",
              "      <td>AI_forecast</td>\n",
              "      <td>AI_P02F</td>\n",
              "      <td>2023.0</td>\n",
              "      <td>754356.237194</td>\n",
              "    </tr>\n",
              "    <tr>\n",
              "      <th>1</th>\n",
              "      <td>Great Britain</td>\n",
              "      <td>Lipton (L3)</td>\n",
              "      <td>2023</td>\n",
              "      <td>12</td>\n",
              "      <td>AI_forecast</td>\n",
              "      <td>AI_P10F</td>\n",
              "      <td>2023.0</td>\n",
              "      <td>560030.558029</td>\n",
              "    </tr>\n",
              "    <tr>\n",
              "      <th>2</th>\n",
              "      <td>Spain</td>\n",
              "      <td>Pepsi Max (L3)</td>\n",
              "      <td>2023</td>\n",
              "      <td>12</td>\n",
              "      <td>AI_forecast</td>\n",
              "      <td>AI_P09F</td>\n",
              "      <td>2023.0</td>\n",
              "      <td>88501.980847</td>\n",
              "    </tr>\n",
              "    <tr>\n",
              "      <th>3</th>\n",
              "      <td>Great Britain</td>\n",
              "      <td>7up (L3)</td>\n",
              "      <td>2024</td>\n",
              "      <td>12</td>\n",
              "      <td>AI_forecast</td>\n",
              "      <td>AI_P10F</td>\n",
              "      <td>2023.0</td>\n",
              "      <td>363224.511516</td>\n",
              "    </tr>\n",
              "    <tr>\n",
              "      <th>4</th>\n",
              "      <td>Hungary</td>\n",
              "      <td>Lipton (L3)</td>\n",
              "      <td>2023</td>\n",
              "      <td>9</td>\n",
              "      <td>AI_forecast</td>\n",
              "      <td>AI_P03F</td>\n",
              "      <td>2023.0</td>\n",
              "      <td>396176.120491</td>\n",
              "    </tr>\n",
              "  </tbody>\n",
              "</table>\n",
              "</div>\n",
              "    <div class=\"colab-df-buttons\">\n",
              "\n",
              "  <div class=\"colab-df-container\">\n",
              "    <button class=\"colab-df-convert\" onclick=\"convertToInteractive('df-938731ea-f8ce-4d3c-b7a1-363af54619b4')\"\n",
              "            title=\"Convert this dataframe to an interactive table.\"\n",
              "            style=\"display:none;\">\n",
              "\n",
              "  <svg xmlns=\"http://www.w3.org/2000/svg\" height=\"24px\" viewBox=\"0 -960 960 960\">\n",
              "    <path d=\"M120-120v-720h720v720H120Zm60-500h600v-160H180v160Zm220 220h160v-160H400v160Zm0 220h160v-160H400v160ZM180-400h160v-160H180v160Zm440 0h160v-160H620v160ZM180-180h160v-160H180v160Zm440 0h160v-160H620v160Z\"/>\n",
              "  </svg>\n",
              "    </button>\n",
              "\n",
              "  <style>\n",
              "    .colab-df-container {\n",
              "      display:flex;\n",
              "      gap: 12px;\n",
              "    }\n",
              "\n",
              "    .colab-df-convert {\n",
              "      background-color: #E8F0FE;\n",
              "      border: none;\n",
              "      border-radius: 50%;\n",
              "      cursor: pointer;\n",
              "      display: none;\n",
              "      fill: #1967D2;\n",
              "      height: 32px;\n",
              "      padding: 0 0 0 0;\n",
              "      width: 32px;\n",
              "    }\n",
              "\n",
              "    .colab-df-convert:hover {\n",
              "      background-color: #E2EBFA;\n",
              "      box-shadow: 0px 1px 2px rgba(60, 64, 67, 0.3), 0px 1px 3px 1px rgba(60, 64, 67, 0.15);\n",
              "      fill: #174EA6;\n",
              "    }\n",
              "\n",
              "    .colab-df-buttons div {\n",
              "      margin-bottom: 4px;\n",
              "    }\n",
              "\n",
              "    [theme=dark] .colab-df-convert {\n",
              "      background-color: #3B4455;\n",
              "      fill: #D2E3FC;\n",
              "    }\n",
              "\n",
              "    [theme=dark] .colab-df-convert:hover {\n",
              "      background-color: #434B5C;\n",
              "      box-shadow: 0px 1px 3px 1px rgba(0, 0, 0, 0.15);\n",
              "      filter: drop-shadow(0px 1px 2px rgba(0, 0, 0, 0.3));\n",
              "      fill: #FFFFFF;\n",
              "    }\n",
              "  </style>\n",
              "\n",
              "    <script>\n",
              "      const buttonEl =\n",
              "        document.querySelector('#df-938731ea-f8ce-4d3c-b7a1-363af54619b4 button.colab-df-convert');\n",
              "      buttonEl.style.display =\n",
              "        google.colab.kernel.accessAllowed ? 'block' : 'none';\n",
              "\n",
              "      async function convertToInteractive(key) {\n",
              "        const element = document.querySelector('#df-938731ea-f8ce-4d3c-b7a1-363af54619b4');\n",
              "        const dataTable =\n",
              "          await google.colab.kernel.invokeFunction('convertToInteractive',\n",
              "                                                    [key], {});\n",
              "        if (!dataTable) return;\n",
              "\n",
              "        const docLinkHtml = 'Like what you see? Visit the ' +\n",
              "          '<a target=\"_blank\" href=https://colab.research.google.com/notebooks/data_table.ipynb>data table notebook</a>'\n",
              "          + ' to learn more about interactive tables.';\n",
              "        element.innerHTML = '';\n",
              "        dataTable['output_type'] = 'display_data';\n",
              "        await google.colab.output.renderOutput(dataTable, element);\n",
              "        const docLink = document.createElement('div');\n",
              "        docLink.innerHTML = docLinkHtml;\n",
              "        element.appendChild(docLink);\n",
              "      }\n",
              "    </script>\n",
              "  </div>\n",
              "\n",
              "\n",
              "<div id=\"df-9f7a82d5-a5f8-4a71-9b03-298b8be36ad7\">\n",
              "  <button class=\"colab-df-quickchart\" onclick=\"quickchart('df-9f7a82d5-a5f8-4a71-9b03-298b8be36ad7')\"\n",
              "            title=\"Suggest charts\"\n",
              "            style=\"display:none;\">\n",
              "\n",
              "<svg xmlns=\"http://www.w3.org/2000/svg\" height=\"24px\"viewBox=\"0 0 24 24\"\n",
              "     width=\"24px\">\n",
              "    <g>\n",
              "        <path d=\"M19 3H5c-1.1 0-2 .9-2 2v14c0 1.1.9 2 2 2h14c1.1 0 2-.9 2-2V5c0-1.1-.9-2-2-2zM9 17H7v-7h2v7zm4 0h-2V7h2v10zm4 0h-2v-4h2v4z\"/>\n",
              "    </g>\n",
              "</svg>\n",
              "  </button>\n",
              "\n",
              "<style>\n",
              "  .colab-df-quickchart {\n",
              "      --bg-color: #E8F0FE;\n",
              "      --fill-color: #1967D2;\n",
              "      --hover-bg-color: #E2EBFA;\n",
              "      --hover-fill-color: #174EA6;\n",
              "      --disabled-fill-color: #AAA;\n",
              "      --disabled-bg-color: #DDD;\n",
              "  }\n",
              "\n",
              "  [theme=dark] .colab-df-quickchart {\n",
              "      --bg-color: #3B4455;\n",
              "      --fill-color: #D2E3FC;\n",
              "      --hover-bg-color: #434B5C;\n",
              "      --hover-fill-color: #FFFFFF;\n",
              "      --disabled-bg-color: #3B4455;\n",
              "      --disabled-fill-color: #666;\n",
              "  }\n",
              "\n",
              "  .colab-df-quickchart {\n",
              "    background-color: var(--bg-color);\n",
              "    border: none;\n",
              "    border-radius: 50%;\n",
              "    cursor: pointer;\n",
              "    display: none;\n",
              "    fill: var(--fill-color);\n",
              "    height: 32px;\n",
              "    padding: 0;\n",
              "    width: 32px;\n",
              "  }\n",
              "\n",
              "  .colab-df-quickchart:hover {\n",
              "    background-color: var(--hover-bg-color);\n",
              "    box-shadow: 0 1px 2px rgba(60, 64, 67, 0.3), 0 1px 3px 1px rgba(60, 64, 67, 0.15);\n",
              "    fill: var(--button-hover-fill-color);\n",
              "  }\n",
              "\n",
              "  .colab-df-quickchart-complete:disabled,\n",
              "  .colab-df-quickchart-complete:disabled:hover {\n",
              "    background-color: var(--disabled-bg-color);\n",
              "    fill: var(--disabled-fill-color);\n",
              "    box-shadow: none;\n",
              "  }\n",
              "\n",
              "  .colab-df-spinner {\n",
              "    border: 2px solid var(--fill-color);\n",
              "    border-color: transparent;\n",
              "    border-bottom-color: var(--fill-color);\n",
              "    animation:\n",
              "      spin 1s steps(1) infinite;\n",
              "  }\n",
              "\n",
              "  @keyframes spin {\n",
              "    0% {\n",
              "      border-color: transparent;\n",
              "      border-bottom-color: var(--fill-color);\n",
              "      border-left-color: var(--fill-color);\n",
              "    }\n",
              "    20% {\n",
              "      border-color: transparent;\n",
              "      border-left-color: var(--fill-color);\n",
              "      border-top-color: var(--fill-color);\n",
              "    }\n",
              "    30% {\n",
              "      border-color: transparent;\n",
              "      border-left-color: var(--fill-color);\n",
              "      border-top-color: var(--fill-color);\n",
              "      border-right-color: var(--fill-color);\n",
              "    }\n",
              "    40% {\n",
              "      border-color: transparent;\n",
              "      border-right-color: var(--fill-color);\n",
              "      border-top-color: var(--fill-color);\n",
              "    }\n",
              "    60% {\n",
              "      border-color: transparent;\n",
              "      border-right-color: var(--fill-color);\n",
              "    }\n",
              "    80% {\n",
              "      border-color: transparent;\n",
              "      border-right-color: var(--fill-color);\n",
              "      border-bottom-color: var(--fill-color);\n",
              "    }\n",
              "    90% {\n",
              "      border-color: transparent;\n",
              "      border-bottom-color: var(--fill-color);\n",
              "    }\n",
              "  }\n",
              "</style>\n",
              "\n",
              "  <script>\n",
              "    async function quickchart(key) {\n",
              "      const quickchartButtonEl =\n",
              "        document.querySelector('#' + key + ' button');\n",
              "      quickchartButtonEl.disabled = true;  // To prevent multiple clicks.\n",
              "      quickchartButtonEl.classList.add('colab-df-spinner');\n",
              "      try {\n",
              "        const charts = await google.colab.kernel.invokeFunction(\n",
              "            'suggestCharts', [key], {});\n",
              "      } catch (error) {\n",
              "        console.error('Error during call to suggestCharts:', error);\n",
              "      }\n",
              "      quickchartButtonEl.classList.remove('colab-df-spinner');\n",
              "      quickchartButtonEl.classList.add('colab-df-quickchart-complete');\n",
              "    }\n",
              "    (() => {\n",
              "      let quickchartButtonEl =\n",
              "        document.querySelector('#df-9f7a82d5-a5f8-4a71-9b03-298b8be36ad7 button');\n",
              "      quickchartButtonEl.style.display =\n",
              "        google.colab.kernel.accessAllowed ? 'block' : 'none';\n",
              "    })();\n",
              "  </script>\n",
              "</div>\n",
              "\n",
              "    </div>\n",
              "  </div>\n"
            ],
            "application/vnd.google.colaboratory.intrinsic+json": {
              "type": "dataframe",
              "variable_name": "df",
              "summary": "{\n  \"name\": \"df\",\n  \"rows\": 18666,\n  \"fields\": [\n    {\n      \"column\": \"COUNTRY\",\n      \"properties\": {\n        \"dtype\": \"category\",\n        \"num_unique_values\": 9,\n        \"samples\": [\n          \"Italy\",\n          \"Great Britain\",\n          \"Denmark\"\n        ],\n        \"semantic_type\": \"\",\n        \"description\": \"\"\n      }\n    },\n    {\n      \"column\": \"SUBBRAND\",\n      \"properties\": {\n        \"dtype\": \"category\",\n        \"num_unique_values\": 6,\n        \"samples\": [\n          \"Lipton (L3)\",\n          \"Pepsi Max (L3)\",\n          \"7up Free (L3)\"\n        ],\n        \"semantic_type\": \"\",\n        \"description\": \"\"\n      }\n    },\n    {\n      \"column\": \"YEAR\",\n      \"properties\": {\n        \"dtype\": \"number\",\n        \"std\": 0,\n        \"min\": 2023,\n        \"max\": 2025,\n        \"num_unique_values\": 3,\n        \"samples\": [\n          2023,\n          2024,\n          2025\n        ],\n        \"semantic_type\": \"\",\n        \"description\": \"\"\n      }\n    },\n    {\n      \"column\": \"MONTH\",\n      \"properties\": {\n        \"dtype\": \"number\",\n        \"std\": 3,\n        \"min\": 1,\n        \"max\": 12,\n        \"num_unique_values\": 12,\n        \"samples\": [\n          5,\n          3,\n          12\n        ],\n        \"semantic_type\": \"\",\n        \"description\": \"\"\n      }\n    },\n    {\n      \"column\": \"SCENARIO\",\n      \"properties\": {\n        \"dtype\": \"category\",\n        \"num_unique_values\": 2,\n        \"samples\": [\n          \"actual\",\n          \"AI_forecast\"\n        ],\n        \"semantic_type\": \"\",\n        \"description\": \"\"\n      }\n    },\n    {\n      \"column\": \"FORECAST\",\n      \"properties\": {\n        \"dtype\": \"category\",\n        \"num_unique_values\": 12,\n        \"samples\": [\n          \"AI_P08F\",\n          \"AI_P12F\"\n        ],\n        \"semantic_type\": \"\",\n        \"description\": \"\"\n      }\n    },\n    {\n      \"column\": \"FORECAST_YEAR\",\n      \"properties\": {\n        \"dtype\": \"number\",\n        \"std\": 0.0,\n        \"min\": 2023.0,\n        \"max\": 2023.0,\n        \"num_unique_values\": 1,\n        \"samples\": [\n          2023.0\n        ],\n        \"semantic_type\": \"\",\n        \"description\": \"\"\n      }\n    },\n    {\n      \"column\": \"AMOUNT\",\n      \"properties\": {\n        \"dtype\": \"number\",\n        \"std\": 1915283.448382496,\n        \"min\": -217120.10313272703,\n        \"max\": 14815628.237867463,\n        \"num_unique_values\": 17121,\n        \"samples\": [\n          2568883.4881238216\n        ],\n        \"semantic_type\": \"\",\n        \"description\": \"\"\n      }\n    }\n  ]\n}"
            }
          },
          "metadata": {},
          "execution_count": 5
        }
      ],
      "source": [
        "import pandas as pd\n",
        "import matplotlib.pyplot as plt\n",
        "\n",
        "# Enlace al archivo CSV en la versión \"raw\" de GitHub\n",
        "url = 'https://raw.githubusercontent.com/juliablaz2003/UFV_visualizacion/refs/heads/main/Ejercicios%20de%20clase/datos_ejercicio_ventas.csv?token=GHSAT0AAAAAACY2AYSB5PEXMIGMZHA6PMUAZZOFJXA'\n",
        "\n",
        "# Leer el archivo CSV directamente desde GitHub\n",
        "df = pd.read_csv(url, sep = ',')\n",
        "\n",
        "# Mostrar las primeras filas del DataFrame\n",
        "df.head()"
      ]
    },
    {
      "cell_type": "markdown",
      "source": [
        "Podemos hacer una exploración inicial para entender mejor la estructura de los datos.\n",
        "\n",
        "En este caso esta línea de código muestra los nombres de todas las columnas."
      ],
      "metadata": {
        "id": "QLwB24eLqwAZ"
      }
    },
    {
      "cell_type": "code",
      "source": [
        "print(df.columns)"
      ],
      "metadata": {
        "id": "_txFj_-Nf_NF",
        "outputId": "092b53c0-be82-4ff3-f6da-1930b4f42710",
        "colab": {
          "base_uri": "https://localhost:8080/"
        }
      },
      "execution_count": 6,
      "outputs": [
        {
          "output_type": "stream",
          "name": "stdout",
          "text": [
            "Index(['COUNTRY', 'SUBBRAND', 'YEAR', 'MONTH', 'SCENARIO', 'FORECAST',\n",
            "       'FORECAST_YEAR', 'AMOUNT'],\n",
            "      dtype='object')\n"
          ]
        }
      ]
    },
    {
      "cell_type": "markdown",
      "source": [
        "El resultado muestra que el DataFrame tiene las siguientes columnas:\n",
        "- COUNTRY: el país donde se registra la venta o predicción.\n",
        "- SUBBRAND: la sub-marca del producto, como por ejemplo, diferentes versiones de una bebida.\n",
        "- YEAR y MONTH: el año y el mes en que se registra la venta o la predicción.\n",
        "- SCENARIO: indica si es un dato de venta real (actual) o una predicción (AI_forecast).\n",
        "- FORECAST: información sobre el tipo de predicción, asociada a un periodo específico.\n",
        "- FORECAST_YEAR: el año en que se realizó la predicción.\n",
        "- AMOUNT: el volumen de ventas en litros."
      ],
      "metadata": {
        "id": "BBBZrRmMrMpL"
      }
    },
    {
      "cell_type": "markdown",
      "source": [
        "Esta línea me dice el tipo de dato que es."
      ],
      "metadata": {
        "id": "Pyew76uZrjO9"
      }
    },
    {
      "cell_type": "code",
      "source": [
        "print(df.dtypes)"
      ],
      "metadata": {
        "colab": {
          "base_uri": "https://localhost:8080/"
        },
        "id": "EBgIhAcckF3O",
        "outputId": "3a820d71-b459-4be3-9db8-4e618894cff3"
      },
      "execution_count": 7,
      "outputs": [
        {
          "output_type": "stream",
          "name": "stdout",
          "text": [
            "COUNTRY           object\n",
            "SUBBRAND          object\n",
            "YEAR               int64\n",
            "MONTH              int64\n",
            "SCENARIO          object\n",
            "FORECAST          object\n",
            "FORECAST_YEAR    float64\n",
            "AMOUNT           float64\n",
            "dtype: object\n"
          ]
        }
      ]
    },
    {
      "cell_type": "markdown",
      "source": [
        "El resultado nos da:\n",
        "\n",
        "- COUNTRY y SUBBRAND: Son de tipo object, lo que significa que contienen texto o datos categóricos.\n",
        "- YEAR y MONTH: Son de tipo int64, lo cual es adecuado para valores enteros, como los años y meses.\n",
        "- SCENARIO y FORECAST: Son de tipo object, probablemente conteniendo texto que describe el escenario (actual o AI_forecast) y el tipo de predicción.\n",
        "- FORECAST_YEAR y AMOUNT: Son de tipo float64, lo cual es adecuado para datos numéricos con decimales, como el año de la predicción (si incluye decimales) y el volumen de ventas en litros."
      ],
      "metadata": {
        "id": "vR6mnLM8rwTC"
      }
    },
    {
      "cell_type": "markdown",
      "source": [
        "1. Número de filas"
      ],
      "metadata": {
        "id": "-8dtc02s5Lue"
      }
    },
    {
      "cell_type": "markdown",
      "source": [
        "Para obtener el número de filas usamos la función *shape* que nos proporciona una tupla con la cantidad de filas y columnas, y [0] selecciona solo el valor de filas."
      ],
      "metadata": {
        "id": "CStjJiCzsL76"
      }
    },
    {
      "cell_type": "code",
      "source": [
        "num_filas = df.shape[0]\n",
        "print(f\"Número de filas: {num_filas}\")"
      ],
      "metadata": {
        "colab": {
          "base_uri": "https://localhost:8080/"
        },
        "id": "CJW7IR-HdADc",
        "outputId": "a0949253-f34c-4963-8dd3-00333f7fee39"
      },
      "execution_count": 8,
      "outputs": [
        {
          "output_type": "stream",
          "name": "stdout",
          "text": [
            "Número de filas: 18666\n"
          ]
        }
      ]
    },
    {
      "cell_type": "markdown",
      "source": [
        "En este caso vemos que el número de filas que hay en el dataset es de 18666."
      ],
      "metadata": {
        "id": "2q6K5xpdsebT"
      }
    },
    {
      "cell_type": "markdown",
      "source": [
        "2. Número de \"actuals\" y \"forecasts\""
      ],
      "metadata": {
        "id": "A5ACI_qV6iW5"
      }
    },
    {
      "cell_type": "markdown",
      "source": [
        "Para calcular el número de ventas reales y predicciones lo primero es filtrar y contar los registros de cada uno y los filtra por la columna SCENARIO."
      ],
      "metadata": {
        "id": "DF7AWfymszKz"
      }
    },
    {
      "cell_type": "code",
      "source": [
        "num_actuals = df[df['SCENARIO'] == 'actual'].shape[0]\n",
        "num_forecasts = df[df['SCENARIO'] == 'AI_forecast'].shape[0]\n",
        "\n",
        "print(f\"Número de actuals: {num_actuals}\")\n",
        "print(f\"Número de forecasts: {num_forecasts}\")"
      ],
      "metadata": {
        "id": "5aknWwya6f5a",
        "outputId": "aec25aac-bd60-49de-d06f-eb38e099624e",
        "colab": {
          "base_uri": "https://localhost:8080/"
        }
      },
      "execution_count": 9,
      "outputs": [
        {
          "output_type": "stream",
          "name": "stdout",
          "text": [
            "Número de actuals: 900\n",
            "Número de forecasts: 17766\n"
          ]
        }
      ]
    },
    {
      "cell_type": "markdown",
      "source": [
        "En este caso vemos que hay 900 registros de ventas reales y 17.766 registros de predicciones enn el conjunto de datos."
      ],
      "metadata": {
        "id": "x7ZH_l1BOZr_"
      }
    },
    {
      "cell_type": "markdown",
      "source": [
        "3. Horizonte de predicción"
      ],
      "metadata": {
        "id": "rn5DL9jh6uGt"
      }
    },
    {
      "cell_type": "markdown",
      "source": [
        "El horizonte de predicción es el tiempo que transcurre entre el momento en que se hace una predicción y el momento en el que ocurre el evento que se predijo. En el contexto de ventas o demanda, el horizonte de predicción representa el lapso, medido en meses, entre la fecha en que se hace la predicción y la fecha real en la que se espera que suceda la venta."
      ],
      "metadata": {
        "id": "lKQUNzdMDw40"
      }
    },
    {
      "cell_type": "code",
      "source": [
        "norway_7up = df[(df['COUNTRY'] == 'Norway') & (df['SUBBRAND'] == '7up (L3)') & (df['FORECAST'] == 'AI_P02F')]\n",
        "\n",
        "norway_7up"
      ],
      "metadata": {
        "colab": {
          "base_uri": "https://localhost:8080/",
          "height": 633
        },
        "id": "LejDeFIW-pyX",
        "outputId": "7fd9bdcf-c004-4548-c043-fedfef11d2c7"
      },
      "execution_count": 10,
      "outputs": [
        {
          "output_type": "execute_result",
          "data": {
            "text/plain": [
              "      COUNTRY  SUBBRAND  YEAR  MONTH     SCENARIO FORECAST  FORECAST_YEAR  \\\n",
              "1636   Norway  7up (L3)  2023      8  AI_forecast  AI_P02F         2023.0   \n",
              "2433   Norway  7up (L3)  2023      5  AI_forecast  AI_P02F         2023.0   \n",
              "2788   Norway  7up (L3)  2023     11  AI_forecast  AI_P02F         2023.0   \n",
              "6646   Norway  7up (L3)  2023      3  AI_forecast  AI_P02F         2023.0   \n",
              "7044   Norway  7up (L3)  2023     10  AI_forecast  AI_P02F         2023.0   \n",
              "7223   Norway  7up (L3)  2024      5  AI_forecast  AI_P02F         2023.0   \n",
              "7897   Norway  7up (L3)  2023      6  AI_forecast  AI_P02F         2023.0   \n",
              "10637  Norway  7up (L3)  2024      3  AI_forecast  AI_P02F         2023.0   \n",
              "12308  Norway  7up (L3)  2024      4  AI_forecast  AI_P02F         2023.0   \n",
              "12317  Norway  7up (L3)  2023      7  AI_forecast  AI_P02F         2023.0   \n",
              "12859  Norway  7up (L3)  2023     12  AI_forecast  AI_P02F         2023.0   \n",
              "12894  Norway  7up (L3)  2023      4  AI_forecast  AI_P02F         2023.0   \n",
              "15128  Norway  7up (L3)  2024      2  AI_forecast  AI_P02F         2023.0   \n",
              "15199  Norway  7up (L3)  2024      6  AI_forecast  AI_P02F         2023.0   \n",
              "15500  Norway  7up (L3)  2023      2  AI_forecast  AI_P02F         2023.0   \n",
              "16048  Norway  7up (L3)  2024      7  AI_forecast  AI_P02F         2023.0   \n",
              "16614  Norway  7up (L3)  2024      1  AI_forecast  AI_P02F         2023.0   \n",
              "18082  Norway  7up (L3)  2023      9  AI_forecast  AI_P02F         2023.0   \n",
              "\n",
              "             AMOUNT  \n",
              "1636   10440.460773  \n",
              "2433   11265.176976  \n",
              "2788    1655.848543  \n",
              "6646    6678.193437  \n",
              "7044       0.000000  \n",
              "7223    4753.377529  \n",
              "7897   10674.547765  \n",
              "10637   3861.897766  \n",
              "12308    994.153833  \n",
              "12317  11330.754229  \n",
              "12859   4486.776140  \n",
              "12894   5896.244654  \n",
              "15128   1638.375805  \n",
              "15199   4134.027989  \n",
              "15500   4829.530116  \n",
              "16048   6635.139470  \n",
              "16614      0.000000  \n",
              "18082   3369.944513  "
            ],
            "text/html": [
              "\n",
              "  <div id=\"df-cab4b8b3-f992-477c-97ce-fd573e774cc1\" class=\"colab-df-container\">\n",
              "    <div>\n",
              "<style scoped>\n",
              "    .dataframe tbody tr th:only-of-type {\n",
              "        vertical-align: middle;\n",
              "    }\n",
              "\n",
              "    .dataframe tbody tr th {\n",
              "        vertical-align: top;\n",
              "    }\n",
              "\n",
              "    .dataframe thead th {\n",
              "        text-align: right;\n",
              "    }\n",
              "</style>\n",
              "<table border=\"1\" class=\"dataframe\">\n",
              "  <thead>\n",
              "    <tr style=\"text-align: right;\">\n",
              "      <th></th>\n",
              "      <th>COUNTRY</th>\n",
              "      <th>SUBBRAND</th>\n",
              "      <th>YEAR</th>\n",
              "      <th>MONTH</th>\n",
              "      <th>SCENARIO</th>\n",
              "      <th>FORECAST</th>\n",
              "      <th>FORECAST_YEAR</th>\n",
              "      <th>AMOUNT</th>\n",
              "    </tr>\n",
              "  </thead>\n",
              "  <tbody>\n",
              "    <tr>\n",
              "      <th>1636</th>\n",
              "      <td>Norway</td>\n",
              "      <td>7up (L3)</td>\n",
              "      <td>2023</td>\n",
              "      <td>8</td>\n",
              "      <td>AI_forecast</td>\n",
              "      <td>AI_P02F</td>\n",
              "      <td>2023.0</td>\n",
              "      <td>10440.460773</td>\n",
              "    </tr>\n",
              "    <tr>\n",
              "      <th>2433</th>\n",
              "      <td>Norway</td>\n",
              "      <td>7up (L3)</td>\n",
              "      <td>2023</td>\n",
              "      <td>5</td>\n",
              "      <td>AI_forecast</td>\n",
              "      <td>AI_P02F</td>\n",
              "      <td>2023.0</td>\n",
              "      <td>11265.176976</td>\n",
              "    </tr>\n",
              "    <tr>\n",
              "      <th>2788</th>\n",
              "      <td>Norway</td>\n",
              "      <td>7up (L3)</td>\n",
              "      <td>2023</td>\n",
              "      <td>11</td>\n",
              "      <td>AI_forecast</td>\n",
              "      <td>AI_P02F</td>\n",
              "      <td>2023.0</td>\n",
              "      <td>1655.848543</td>\n",
              "    </tr>\n",
              "    <tr>\n",
              "      <th>6646</th>\n",
              "      <td>Norway</td>\n",
              "      <td>7up (L3)</td>\n",
              "      <td>2023</td>\n",
              "      <td>3</td>\n",
              "      <td>AI_forecast</td>\n",
              "      <td>AI_P02F</td>\n",
              "      <td>2023.0</td>\n",
              "      <td>6678.193437</td>\n",
              "    </tr>\n",
              "    <tr>\n",
              "      <th>7044</th>\n",
              "      <td>Norway</td>\n",
              "      <td>7up (L3)</td>\n",
              "      <td>2023</td>\n",
              "      <td>10</td>\n",
              "      <td>AI_forecast</td>\n",
              "      <td>AI_P02F</td>\n",
              "      <td>2023.0</td>\n",
              "      <td>0.000000</td>\n",
              "    </tr>\n",
              "    <tr>\n",
              "      <th>7223</th>\n",
              "      <td>Norway</td>\n",
              "      <td>7up (L3)</td>\n",
              "      <td>2024</td>\n",
              "      <td>5</td>\n",
              "      <td>AI_forecast</td>\n",
              "      <td>AI_P02F</td>\n",
              "      <td>2023.0</td>\n",
              "      <td>4753.377529</td>\n",
              "    </tr>\n",
              "    <tr>\n",
              "      <th>7897</th>\n",
              "      <td>Norway</td>\n",
              "      <td>7up (L3)</td>\n",
              "      <td>2023</td>\n",
              "      <td>6</td>\n",
              "      <td>AI_forecast</td>\n",
              "      <td>AI_P02F</td>\n",
              "      <td>2023.0</td>\n",
              "      <td>10674.547765</td>\n",
              "    </tr>\n",
              "    <tr>\n",
              "      <th>10637</th>\n",
              "      <td>Norway</td>\n",
              "      <td>7up (L3)</td>\n",
              "      <td>2024</td>\n",
              "      <td>3</td>\n",
              "      <td>AI_forecast</td>\n",
              "      <td>AI_P02F</td>\n",
              "      <td>2023.0</td>\n",
              "      <td>3861.897766</td>\n",
              "    </tr>\n",
              "    <tr>\n",
              "      <th>12308</th>\n",
              "      <td>Norway</td>\n",
              "      <td>7up (L3)</td>\n",
              "      <td>2024</td>\n",
              "      <td>4</td>\n",
              "      <td>AI_forecast</td>\n",
              "      <td>AI_P02F</td>\n",
              "      <td>2023.0</td>\n",
              "      <td>994.153833</td>\n",
              "    </tr>\n",
              "    <tr>\n",
              "      <th>12317</th>\n",
              "      <td>Norway</td>\n",
              "      <td>7up (L3)</td>\n",
              "      <td>2023</td>\n",
              "      <td>7</td>\n",
              "      <td>AI_forecast</td>\n",
              "      <td>AI_P02F</td>\n",
              "      <td>2023.0</td>\n",
              "      <td>11330.754229</td>\n",
              "    </tr>\n",
              "    <tr>\n",
              "      <th>12859</th>\n",
              "      <td>Norway</td>\n",
              "      <td>7up (L3)</td>\n",
              "      <td>2023</td>\n",
              "      <td>12</td>\n",
              "      <td>AI_forecast</td>\n",
              "      <td>AI_P02F</td>\n",
              "      <td>2023.0</td>\n",
              "      <td>4486.776140</td>\n",
              "    </tr>\n",
              "    <tr>\n",
              "      <th>12894</th>\n",
              "      <td>Norway</td>\n",
              "      <td>7up (L3)</td>\n",
              "      <td>2023</td>\n",
              "      <td>4</td>\n",
              "      <td>AI_forecast</td>\n",
              "      <td>AI_P02F</td>\n",
              "      <td>2023.0</td>\n",
              "      <td>5896.244654</td>\n",
              "    </tr>\n",
              "    <tr>\n",
              "      <th>15128</th>\n",
              "      <td>Norway</td>\n",
              "      <td>7up (L3)</td>\n",
              "      <td>2024</td>\n",
              "      <td>2</td>\n",
              "      <td>AI_forecast</td>\n",
              "      <td>AI_P02F</td>\n",
              "      <td>2023.0</td>\n",
              "      <td>1638.375805</td>\n",
              "    </tr>\n",
              "    <tr>\n",
              "      <th>15199</th>\n",
              "      <td>Norway</td>\n",
              "      <td>7up (L3)</td>\n",
              "      <td>2024</td>\n",
              "      <td>6</td>\n",
              "      <td>AI_forecast</td>\n",
              "      <td>AI_P02F</td>\n",
              "      <td>2023.0</td>\n",
              "      <td>4134.027989</td>\n",
              "    </tr>\n",
              "    <tr>\n",
              "      <th>15500</th>\n",
              "      <td>Norway</td>\n",
              "      <td>7up (L3)</td>\n",
              "      <td>2023</td>\n",
              "      <td>2</td>\n",
              "      <td>AI_forecast</td>\n",
              "      <td>AI_P02F</td>\n",
              "      <td>2023.0</td>\n",
              "      <td>4829.530116</td>\n",
              "    </tr>\n",
              "    <tr>\n",
              "      <th>16048</th>\n",
              "      <td>Norway</td>\n",
              "      <td>7up (L3)</td>\n",
              "      <td>2024</td>\n",
              "      <td>7</td>\n",
              "      <td>AI_forecast</td>\n",
              "      <td>AI_P02F</td>\n",
              "      <td>2023.0</td>\n",
              "      <td>6635.139470</td>\n",
              "    </tr>\n",
              "    <tr>\n",
              "      <th>16614</th>\n",
              "      <td>Norway</td>\n",
              "      <td>7up (L3)</td>\n",
              "      <td>2024</td>\n",
              "      <td>1</td>\n",
              "      <td>AI_forecast</td>\n",
              "      <td>AI_P02F</td>\n",
              "      <td>2023.0</td>\n",
              "      <td>0.000000</td>\n",
              "    </tr>\n",
              "    <tr>\n",
              "      <th>18082</th>\n",
              "      <td>Norway</td>\n",
              "      <td>7up (L3)</td>\n",
              "      <td>2023</td>\n",
              "      <td>9</td>\n",
              "      <td>AI_forecast</td>\n",
              "      <td>AI_P02F</td>\n",
              "      <td>2023.0</td>\n",
              "      <td>3369.944513</td>\n",
              "    </tr>\n",
              "  </tbody>\n",
              "</table>\n",
              "</div>\n",
              "    <div class=\"colab-df-buttons\">\n",
              "\n",
              "  <div class=\"colab-df-container\">\n",
              "    <button class=\"colab-df-convert\" onclick=\"convertToInteractive('df-cab4b8b3-f992-477c-97ce-fd573e774cc1')\"\n",
              "            title=\"Convert this dataframe to an interactive table.\"\n",
              "            style=\"display:none;\">\n",
              "\n",
              "  <svg xmlns=\"http://www.w3.org/2000/svg\" height=\"24px\" viewBox=\"0 -960 960 960\">\n",
              "    <path d=\"M120-120v-720h720v720H120Zm60-500h600v-160H180v160Zm220 220h160v-160H400v160Zm0 220h160v-160H400v160ZM180-400h160v-160H180v160Zm440 0h160v-160H620v160ZM180-180h160v-160H180v160Zm440 0h160v-160H620v160Z\"/>\n",
              "  </svg>\n",
              "    </button>\n",
              "\n",
              "  <style>\n",
              "    .colab-df-container {\n",
              "      display:flex;\n",
              "      gap: 12px;\n",
              "    }\n",
              "\n",
              "    .colab-df-convert {\n",
              "      background-color: #E8F0FE;\n",
              "      border: none;\n",
              "      border-radius: 50%;\n",
              "      cursor: pointer;\n",
              "      display: none;\n",
              "      fill: #1967D2;\n",
              "      height: 32px;\n",
              "      padding: 0 0 0 0;\n",
              "      width: 32px;\n",
              "    }\n",
              "\n",
              "    .colab-df-convert:hover {\n",
              "      background-color: #E2EBFA;\n",
              "      box-shadow: 0px 1px 2px rgba(60, 64, 67, 0.3), 0px 1px 3px 1px rgba(60, 64, 67, 0.15);\n",
              "      fill: #174EA6;\n",
              "    }\n",
              "\n",
              "    .colab-df-buttons div {\n",
              "      margin-bottom: 4px;\n",
              "    }\n",
              "\n",
              "    [theme=dark] .colab-df-convert {\n",
              "      background-color: #3B4455;\n",
              "      fill: #D2E3FC;\n",
              "    }\n",
              "\n",
              "    [theme=dark] .colab-df-convert:hover {\n",
              "      background-color: #434B5C;\n",
              "      box-shadow: 0px 1px 3px 1px rgba(0, 0, 0, 0.15);\n",
              "      filter: drop-shadow(0px 1px 2px rgba(0, 0, 0, 0.3));\n",
              "      fill: #FFFFFF;\n",
              "    }\n",
              "  </style>\n",
              "\n",
              "    <script>\n",
              "      const buttonEl =\n",
              "        document.querySelector('#df-cab4b8b3-f992-477c-97ce-fd573e774cc1 button.colab-df-convert');\n",
              "      buttonEl.style.display =\n",
              "        google.colab.kernel.accessAllowed ? 'block' : 'none';\n",
              "\n",
              "      async function convertToInteractive(key) {\n",
              "        const element = document.querySelector('#df-cab4b8b3-f992-477c-97ce-fd573e774cc1');\n",
              "        const dataTable =\n",
              "          await google.colab.kernel.invokeFunction('convertToInteractive',\n",
              "                                                    [key], {});\n",
              "        if (!dataTable) return;\n",
              "\n",
              "        const docLinkHtml = 'Like what you see? Visit the ' +\n",
              "          '<a target=\"_blank\" href=https://colab.research.google.com/notebooks/data_table.ipynb>data table notebook</a>'\n",
              "          + ' to learn more about interactive tables.';\n",
              "        element.innerHTML = '';\n",
              "        dataTable['output_type'] = 'display_data';\n",
              "        await google.colab.output.renderOutput(dataTable, element);\n",
              "        const docLink = document.createElement('div');\n",
              "        docLink.innerHTML = docLinkHtml;\n",
              "        element.appendChild(docLink);\n",
              "      }\n",
              "    </script>\n",
              "  </div>\n",
              "\n",
              "\n",
              "<div id=\"df-4a694b78-f94f-4247-9ee8-c5c3efb0d8e0\">\n",
              "  <button class=\"colab-df-quickchart\" onclick=\"quickchart('df-4a694b78-f94f-4247-9ee8-c5c3efb0d8e0')\"\n",
              "            title=\"Suggest charts\"\n",
              "            style=\"display:none;\">\n",
              "\n",
              "<svg xmlns=\"http://www.w3.org/2000/svg\" height=\"24px\"viewBox=\"0 0 24 24\"\n",
              "     width=\"24px\">\n",
              "    <g>\n",
              "        <path d=\"M19 3H5c-1.1 0-2 .9-2 2v14c0 1.1.9 2 2 2h14c1.1 0 2-.9 2-2V5c0-1.1-.9-2-2-2zM9 17H7v-7h2v7zm4 0h-2V7h2v10zm4 0h-2v-4h2v4z\"/>\n",
              "    </g>\n",
              "</svg>\n",
              "  </button>\n",
              "\n",
              "<style>\n",
              "  .colab-df-quickchart {\n",
              "      --bg-color: #E8F0FE;\n",
              "      --fill-color: #1967D2;\n",
              "      --hover-bg-color: #E2EBFA;\n",
              "      --hover-fill-color: #174EA6;\n",
              "      --disabled-fill-color: #AAA;\n",
              "      --disabled-bg-color: #DDD;\n",
              "  }\n",
              "\n",
              "  [theme=dark] .colab-df-quickchart {\n",
              "      --bg-color: #3B4455;\n",
              "      --fill-color: #D2E3FC;\n",
              "      --hover-bg-color: #434B5C;\n",
              "      --hover-fill-color: #FFFFFF;\n",
              "      --disabled-bg-color: #3B4455;\n",
              "      --disabled-fill-color: #666;\n",
              "  }\n",
              "\n",
              "  .colab-df-quickchart {\n",
              "    background-color: var(--bg-color);\n",
              "    border: none;\n",
              "    border-radius: 50%;\n",
              "    cursor: pointer;\n",
              "    display: none;\n",
              "    fill: var(--fill-color);\n",
              "    height: 32px;\n",
              "    padding: 0;\n",
              "    width: 32px;\n",
              "  }\n",
              "\n",
              "  .colab-df-quickchart:hover {\n",
              "    background-color: var(--hover-bg-color);\n",
              "    box-shadow: 0 1px 2px rgba(60, 64, 67, 0.3), 0 1px 3px 1px rgba(60, 64, 67, 0.15);\n",
              "    fill: var(--button-hover-fill-color);\n",
              "  }\n",
              "\n",
              "  .colab-df-quickchart-complete:disabled,\n",
              "  .colab-df-quickchart-complete:disabled:hover {\n",
              "    background-color: var(--disabled-bg-color);\n",
              "    fill: var(--disabled-fill-color);\n",
              "    box-shadow: none;\n",
              "  }\n",
              "\n",
              "  .colab-df-spinner {\n",
              "    border: 2px solid var(--fill-color);\n",
              "    border-color: transparent;\n",
              "    border-bottom-color: var(--fill-color);\n",
              "    animation:\n",
              "      spin 1s steps(1) infinite;\n",
              "  }\n",
              "\n",
              "  @keyframes spin {\n",
              "    0% {\n",
              "      border-color: transparent;\n",
              "      border-bottom-color: var(--fill-color);\n",
              "      border-left-color: var(--fill-color);\n",
              "    }\n",
              "    20% {\n",
              "      border-color: transparent;\n",
              "      border-left-color: var(--fill-color);\n",
              "      border-top-color: var(--fill-color);\n",
              "    }\n",
              "    30% {\n",
              "      border-color: transparent;\n",
              "      border-left-color: var(--fill-color);\n",
              "      border-top-color: var(--fill-color);\n",
              "      border-right-color: var(--fill-color);\n",
              "    }\n",
              "    40% {\n",
              "      border-color: transparent;\n",
              "      border-right-color: var(--fill-color);\n",
              "      border-top-color: var(--fill-color);\n",
              "    }\n",
              "    60% {\n",
              "      border-color: transparent;\n",
              "      border-right-color: var(--fill-color);\n",
              "    }\n",
              "    80% {\n",
              "      border-color: transparent;\n",
              "      border-right-color: var(--fill-color);\n",
              "      border-bottom-color: var(--fill-color);\n",
              "    }\n",
              "    90% {\n",
              "      border-color: transparent;\n",
              "      border-bottom-color: var(--fill-color);\n",
              "    }\n",
              "  }\n",
              "</style>\n",
              "\n",
              "  <script>\n",
              "    async function quickchart(key) {\n",
              "      const quickchartButtonEl =\n",
              "        document.querySelector('#' + key + ' button');\n",
              "      quickchartButtonEl.disabled = true;  // To prevent multiple clicks.\n",
              "      quickchartButtonEl.classList.add('colab-df-spinner');\n",
              "      try {\n",
              "        const charts = await google.colab.kernel.invokeFunction(\n",
              "            'suggestCharts', [key], {});\n",
              "      } catch (error) {\n",
              "        console.error('Error during call to suggestCharts:', error);\n",
              "      }\n",
              "      quickchartButtonEl.classList.remove('colab-df-spinner');\n",
              "      quickchartButtonEl.classList.add('colab-df-quickchart-complete');\n",
              "    }\n",
              "    (() => {\n",
              "      let quickchartButtonEl =\n",
              "        document.querySelector('#df-4a694b78-f94f-4247-9ee8-c5c3efb0d8e0 button');\n",
              "      quickchartButtonEl.style.display =\n",
              "        google.colab.kernel.accessAllowed ? 'block' : 'none';\n",
              "    })();\n",
              "  </script>\n",
              "</div>\n",
              "\n",
              "  <div id=\"id_94b257c0-a5eb-44b1-9378-6a77f675a31d\">\n",
              "    <style>\n",
              "      .colab-df-generate {\n",
              "        background-color: #E8F0FE;\n",
              "        border: none;\n",
              "        border-radius: 50%;\n",
              "        cursor: pointer;\n",
              "        display: none;\n",
              "        fill: #1967D2;\n",
              "        height: 32px;\n",
              "        padding: 0 0 0 0;\n",
              "        width: 32px;\n",
              "      }\n",
              "\n",
              "      .colab-df-generate:hover {\n",
              "        background-color: #E2EBFA;\n",
              "        box-shadow: 0px 1px 2px rgba(60, 64, 67, 0.3), 0px 1px 3px 1px rgba(60, 64, 67, 0.15);\n",
              "        fill: #174EA6;\n",
              "      }\n",
              "\n",
              "      [theme=dark] .colab-df-generate {\n",
              "        background-color: #3B4455;\n",
              "        fill: #D2E3FC;\n",
              "      }\n",
              "\n",
              "      [theme=dark] .colab-df-generate:hover {\n",
              "        background-color: #434B5C;\n",
              "        box-shadow: 0px 1px 3px 1px rgba(0, 0, 0, 0.15);\n",
              "        filter: drop-shadow(0px 1px 2px rgba(0, 0, 0, 0.3));\n",
              "        fill: #FFFFFF;\n",
              "      }\n",
              "    </style>\n",
              "    <button class=\"colab-df-generate\" onclick=\"generateWithVariable('norway_7up')\"\n",
              "            title=\"Generate code using this dataframe.\"\n",
              "            style=\"display:none;\">\n",
              "\n",
              "  <svg xmlns=\"http://www.w3.org/2000/svg\" height=\"24px\"viewBox=\"0 0 24 24\"\n",
              "       width=\"24px\">\n",
              "    <path d=\"M7,19H8.4L18.45,9,17,7.55,7,17.6ZM5,21V16.75L18.45,3.32a2,2,0,0,1,2.83,0l1.4,1.43a1.91,1.91,0,0,1,.58,1.4,1.91,1.91,0,0,1-.58,1.4L9.25,21ZM18.45,9,17,7.55Zm-12,3A5.31,5.31,0,0,0,4.9,8.1,5.31,5.31,0,0,0,1,6.5,5.31,5.31,0,0,0,4.9,4.9,5.31,5.31,0,0,0,6.5,1,5.31,5.31,0,0,0,8.1,4.9,5.31,5.31,0,0,0,12,6.5,5.46,5.46,0,0,0,6.5,12Z\"/>\n",
              "  </svg>\n",
              "    </button>\n",
              "    <script>\n",
              "      (() => {\n",
              "      const buttonEl =\n",
              "        document.querySelector('#id_94b257c0-a5eb-44b1-9378-6a77f675a31d button.colab-df-generate');\n",
              "      buttonEl.style.display =\n",
              "        google.colab.kernel.accessAllowed ? 'block' : 'none';\n",
              "\n",
              "      buttonEl.onclick = () => {\n",
              "        google.colab.notebook.generateWithVariable('norway_7up');\n",
              "      }\n",
              "      })();\n",
              "    </script>\n",
              "  </div>\n",
              "\n",
              "    </div>\n",
              "  </div>\n"
            ],
            "application/vnd.google.colaboratory.intrinsic+json": {
              "type": "dataframe",
              "variable_name": "norway_7up",
              "summary": "{\n  \"name\": \"norway_7up\",\n  \"rows\": 18,\n  \"fields\": [\n    {\n      \"column\": \"COUNTRY\",\n      \"properties\": {\n        \"dtype\": \"category\",\n        \"num_unique_values\": 1,\n        \"samples\": [\n          \"Norway\"\n        ],\n        \"semantic_type\": \"\",\n        \"description\": \"\"\n      }\n    },\n    {\n      \"column\": \"SUBBRAND\",\n      \"properties\": {\n        \"dtype\": \"category\",\n        \"num_unique_values\": 1,\n        \"samples\": [\n          \"7up (L3)\"\n        ],\n        \"semantic_type\": \"\",\n        \"description\": \"\"\n      }\n    },\n    {\n      \"column\": \"YEAR\",\n      \"properties\": {\n        \"dtype\": \"number\",\n        \"std\": 0,\n        \"min\": 2023,\n        \"max\": 2024,\n        \"num_unique_values\": 2,\n        \"samples\": [\n          2024\n        ],\n        \"semantic_type\": \"\",\n        \"description\": \"\"\n      }\n    },\n    {\n      \"column\": \"MONTH\",\n      \"properties\": {\n        \"dtype\": \"number\",\n        \"std\": 3,\n        \"min\": 1,\n        \"max\": 12,\n        \"num_unique_values\": 12,\n        \"samples\": [\n          1\n        ],\n        \"semantic_type\": \"\",\n        \"description\": \"\"\n      }\n    },\n    {\n      \"column\": \"SCENARIO\",\n      \"properties\": {\n        \"dtype\": \"category\",\n        \"num_unique_values\": 1,\n        \"samples\": [\n          \"AI_forecast\"\n        ],\n        \"semantic_type\": \"\",\n        \"description\": \"\"\n      }\n    },\n    {\n      \"column\": \"FORECAST\",\n      \"properties\": {\n        \"dtype\": \"category\",\n        \"num_unique_values\": 1,\n        \"samples\": [\n          \"AI_P02F\"\n        ],\n        \"semantic_type\": \"\",\n        \"description\": \"\"\n      }\n    },\n    {\n      \"column\": \"FORECAST_YEAR\",\n      \"properties\": {\n        \"dtype\": \"number\",\n        \"std\": 0.0,\n        \"min\": 2023.0,\n        \"max\": 2023.0,\n        \"num_unique_values\": 1,\n        \"samples\": [\n          2023.0\n        ],\n        \"semantic_type\": \"\",\n        \"description\": \"\"\n      }\n    },\n    {\n      \"column\": \"AMOUNT\",\n      \"properties\": {\n        \"dtype\": \"number\",\n        \"std\": 3762.2034849978218,\n        \"min\": 0.0,\n        \"max\": 11330.754228675443,\n        \"num_unique_values\": 17,\n        \"samples\": [\n          10440.460773261062\n        ],\n        \"semantic_type\": \"\",\n        \"description\": \"\"\n      }\n    }\n  ]\n}"
            }
          },
          "metadata": {},
          "execution_count": 10
        }
      ]
    },
    {
      "cell_type": "code",
      "source": [
        "norway_7up.shape\n",
        "print(f'El horizonte de predicción es: {norway_7up.shape[0]}')"
      ],
      "metadata": {
        "colab": {
          "base_uri": "https://localhost:8080/"
        },
        "id": "2PePZdgeCkxr",
        "outputId": "2067ed62-2628-4e8b-84fd-30085e0a50cc"
      },
      "execution_count": 11,
      "outputs": [
        {
          "output_type": "stream",
          "name": "stdout",
          "text": [
            "El horizonte de predicción es: 18\n"
          ]
        }
      ]
    },
    {
      "cell_type": "markdown",
      "source": [
        "4. Número de países y de productos"
      ],
      "metadata": {
        "id": "ttU9-_1I7CK8"
      }
    },
    {
      "cell_type": "markdown",
      "source": [
        "Vamos a contar el número de países únicos en la columna COUNTRY y el número de marcas/productos únicos en la columna SUBBRAND."
      ],
      "metadata": {
        "id": "SZYoqtUt7kA_"
      }
    },
    {
      "cell_type": "code",
      "source": [
        "# Número de países y productos\n",
        "num_paises = df['COUNTRY'].nunique()\n",
        "num_productos = df['SUBBRAND'].nunique()\n",
        "\n",
        "# Listado de países y productos únicos\n",
        "paises_unicos = df['COUNTRY'].unique()\n",
        "productos_unicos = df['SUBBRAND'].unique()\n",
        "\n",
        "print(f\"Número de países: {num_paises}\")\n",
        "print(paises_unicos)\n",
        "print(f\"\\nNúmero de productos: {num_productos}\")\n",
        "print(productos_unicos)"
      ],
      "metadata": {
        "colab": {
          "base_uri": "https://localhost:8080/"
        },
        "id": "pAgsIHL3h10p",
        "outputId": "c9a611ad-9b7a-4800-b706-a67beaeb5d39"
      },
      "execution_count": 12,
      "outputs": [
        {
          "output_type": "stream",
          "name": "stdout",
          "text": [
            "Número de países: 9\n",
            "['Portugal' 'Great Britain' 'Spain' 'Hungary' 'Norway' 'Denmark'\n",
            " 'Netherlands' 'Italy' 'Czech']\n",
            "\n",
            "Número de productos: 6\n",
            "['Lipton (L3)' 'Pepsi Max (L3)' '7up (L3)' 'Pepsi Regular (L3)'\n",
            " 'Mountain Dew (L3)' '7up Free (L3)']\n"
          ]
        }
      ]
    },
    {
      "cell_type": "markdown",
      "source": [
        "5. Histórico de actuals/forecast"
      ],
      "metadata": {
        "id": "xhG9U-yR7Km7"
      }
    },
    {
      "cell_type": "markdown",
      "source": [
        "Para obtener el primer y último registro de los datos de ventas reales lo primero que haremos será filtrar el DataFrame para obtener solo los registros de 'actuals' cogiendo únicamente las columnas relevantes: COUNTRY, SUBBRAND, YEAR, MONTH, SCENARIO, y AMOUNT."
      ],
      "metadata": {
        "id": "FipV6L3cTckZ"
      }
    },
    {
      "cell_type": "code",
      "source": [
        "historico_actuals = df[df['SCENARIO'] == 'actual'][['COUNTRY', 'SUBBRAND', 'YEAR', 'MONTH', 'SCENARIO', 'AMOUNT']]"
      ],
      "metadata": {
        "id": "gbym93bxT2B6"
      },
      "execution_count": 13,
      "outputs": []
    },
    {
      "cell_type": "markdown",
      "source": [
        "Este paso organiza los datos en historico_actuals en orden ascendente, primero por YEAR y luego por MONTH, esto asuegura que los registros esten ordenados en orden cronológico."
      ],
      "metadata": {
        "id": "-iaZpkhDT5sb"
      }
    },
    {
      "cell_type": "code",
      "source": [
        "historico_actuals = historico_actuals.sort_values(by=['YEAR', 'MONTH'])"
      ],
      "metadata": {
        "id": "c3tkYU1aUhs8"
      },
      "execution_count": 14,
      "outputs": []
    },
    {
      "cell_type": "markdown",
      "source": [
        "Utilizamos head(1) para seleccionar la primera fila de historico_actuals, correspondiente al registro más antiguo tras ordenar por fecha."
      ],
      "metadata": {
        "id": "9bTo2IPlUkhj"
      }
    },
    {
      "cell_type": "code",
      "source": [
        "primer_registro = historico_actuals.head(1)"
      ],
      "metadata": {
        "id": "tbDYVNMVUkGp"
      },
      "execution_count": 15,
      "outputs": []
    },
    {
      "cell_type": "markdown",
      "source": [
        "Utilizamos tail(1) para seleccionar la última fila de historico_actuals, correspondiente al registro más reciente tras ordenar por fecha."
      ],
      "metadata": {
        "id": "BjHyhefBUukF"
      }
    },
    {
      "cell_type": "code",
      "source": [
        "ultimo_registro = historico_actuals.tail(1)"
      ],
      "metadata": {
        "id": "BSS5pRFdUu_K"
      },
      "execution_count": 16,
      "outputs": []
    },
    {
      "cell_type": "markdown",
      "source": [
        " Imprimimos el primer y el último registro de historico_actuals con mensajes descriptivos."
      ],
      "metadata": {
        "id": "SbcXvPZTU4Ak"
      }
    },
    {
      "cell_type": "code",
      "source": [
        "print(\"Primer registro en 'actuals' (ordenado por fecha):\")\n",
        "print(primer_registro)\n",
        "\n",
        "print(\"\\nÚltimo registro en 'actuals' (ordenado por fecha):\")\n",
        "print(ultimo_registro)"
      ],
      "metadata": {
        "id": "ZMFTN06ZR9xw",
        "outputId": "fbc40974-cb05-4d5a-ba79-6ff281c71e92",
        "colab": {
          "base_uri": "https://localhost:8080/"
        }
      },
      "execution_count": 17,
      "outputs": [
        {
          "output_type": "stream",
          "name": "stdout",
          "text": [
            "Primer registro en 'actuals' (ordenado por fecha):\n",
            "     COUNTRY        SUBBRAND  YEAR  MONTH SCENARIO        AMOUNT\n",
            "2884   Spain  Pepsi Max (L3)  2023      1   actual  83274.055497\n",
            "\n",
            "Último registro en 'actuals' (ordenado por fecha):\n",
            "      COUNTRY        SUBBRAND  YEAR  MONTH SCENARIO        AMOUNT\n",
            "17720  Norway  Pepsi Max (L3)  2024      8   actual  3.110356e+06\n"
          ]
        }
      ]
    },
    {
      "cell_type": "markdown",
      "source": [
        "Y esto lo hacemos también para el histórico de forecasts, siguiendo el mismo proceso para encontrar el primer y último registro en términos de fecha en las predicciones (AI_forecast)."
      ],
      "metadata": {
        "id": "b0aiFJAyYfs5"
      }
    },
    {
      "cell_type": "code",
      "source": [
        "# Filtramos el DataFrame para obtener solo los registros de 'AI_forecast'\n",
        "historico_forecasts = df[df['SCENARIO'] == 'AI_forecast'][['COUNTRY', 'SUBBRAND', 'YEAR', 'MONTH', 'SCENARIO', 'FORECAST', 'FORECAST_YEAR', 'AMOUNT']]\n",
        "\n",
        "# Ordenamos los registros por FORECAST_YEAR y FORECAST para obtener el orden cronológico de las predicciones\n",
        "historico_forecasts = historico_forecasts.sort_values(by=['FORECAST_YEAR', 'YEAR', 'MONTH'])\n",
        "\n",
        "# Obtenemos el primer registro en términos de fecha de predicción\n",
        "primer_forecast = historico_forecasts.head(1)\n",
        "\n",
        "# Obtenemos el último registro en términos de fecha de predicción\n",
        "ultimo_forecast = historico_forecasts.tail(1)\n",
        "\n",
        "# Mostramos el primer y el último registro en términos de fecha de predicción\n",
        "print(\"Primer registro en 'forecasts' (ordenado por fecha):\")\n",
        "print(primer_forecast)\n",
        "\n",
        "print(\"\\nÚltimo registro en 'forecasts' (ordenado por fecha):\")\n",
        "print(ultimo_forecast)"
      ],
      "metadata": {
        "id": "RhYcfXs3X7TC",
        "outputId": "fc07f0eb-4398-4595-b231-e16f1ab04a94",
        "colab": {
          "base_uri": "https://localhost:8080/"
        }
      },
      "execution_count": 18,
      "outputs": [
        {
          "output_type": "stream",
          "name": "stdout",
          "text": [
            "Primer registro en 'forecasts' (ordenado por fecha):\n",
            "   COUNTRY        SUBBRAND  YEAR  MONTH     SCENARIO FORECAST  FORECAST_YEAR  \\\n",
            "34   Czech  Pepsi Max (L3)  2023      1  AI_forecast    AI_PF         2023.0   \n",
            "\n",
            "           AMOUNT  \n",
            "34  317424.378124  \n",
            "\n",
            "Último registro en 'forecasts' (ordenado por fecha):\n",
            "       COUNTRY  SUBBRAND  YEAR  MONTH     SCENARIO FORECAST  FORECAST_YEAR  \\\n",
            "18543  Hungary  7up (L3)  2025      5  AI_forecast  AI_P12F         2023.0   \n",
            "\n",
            "       AMOUNT  \n",
            "18543     0.0  \n"
          ]
        }
      ]
    },
    {
      "cell_type": "markdown",
      "source": [
        "6. Cuántas ejecuciones de forecast hay"
      ],
      "metadata": {
        "id": "egHngtgJ7316"
      }
    },
    {
      "cell_type": "markdown",
      "source": [
        "Para ver cuantas ejecuciones de forecast tiene la base de datos agrupamos los registros filtrados de AI_forecast según los valores de la columna FORECAST."
      ],
      "metadata": {
        "id": "ueSmI8qa72tH"
      }
    },
    {
      "cell_type": "code",
      "source": [
        "ejecuciones_por_forecast = df[df['SCENARIO'] == 'AI_forecast'].groupby('FORECAST').size()\n",
        "\n",
        "# Mostramos los resultados por tipo de forecast\n",
        "ejecuciones_por_forecast"
      ],
      "metadata": {
        "id": "KYEkfpvhZdw9",
        "outputId": "c282600b-6371-4c7c-b6d6-373b687e5450",
        "colab": {
          "base_uri": "https://localhost:8080/",
          "height": 491
        }
      },
      "execution_count": 19,
      "outputs": [
        {
          "output_type": "execute_result",
          "data": {
            "text/plain": [
              "FORECAST\n",
              "AI_P02F    1278\n",
              "AI_P03F    1278\n",
              "AI_P04F    1476\n",
              "AI_P05F    1494\n",
              "AI_P06F    1422\n",
              "AI_P07F    1476\n",
              "AI_P08F    1566\n",
              "AI_P09F    1566\n",
              "AI_P10F    1620\n",
              "AI_P11F    1620\n",
              "AI_P12F    1692\n",
              "AI_PF      1278\n",
              "dtype: int64"
            ],
            "text/html": [
              "<div>\n",
              "<style scoped>\n",
              "    .dataframe tbody tr th:only-of-type {\n",
              "        vertical-align: middle;\n",
              "    }\n",
              "\n",
              "    .dataframe tbody tr th {\n",
              "        vertical-align: top;\n",
              "    }\n",
              "\n",
              "    .dataframe thead th {\n",
              "        text-align: right;\n",
              "    }\n",
              "</style>\n",
              "<table border=\"1\" class=\"dataframe\">\n",
              "  <thead>\n",
              "    <tr style=\"text-align: right;\">\n",
              "      <th></th>\n",
              "      <th>0</th>\n",
              "    </tr>\n",
              "    <tr>\n",
              "      <th>FORECAST</th>\n",
              "      <th></th>\n",
              "    </tr>\n",
              "  </thead>\n",
              "  <tbody>\n",
              "    <tr>\n",
              "      <th>AI_P02F</th>\n",
              "      <td>1278</td>\n",
              "    </tr>\n",
              "    <tr>\n",
              "      <th>AI_P03F</th>\n",
              "      <td>1278</td>\n",
              "    </tr>\n",
              "    <tr>\n",
              "      <th>AI_P04F</th>\n",
              "      <td>1476</td>\n",
              "    </tr>\n",
              "    <tr>\n",
              "      <th>AI_P05F</th>\n",
              "      <td>1494</td>\n",
              "    </tr>\n",
              "    <tr>\n",
              "      <th>AI_P06F</th>\n",
              "      <td>1422</td>\n",
              "    </tr>\n",
              "    <tr>\n",
              "      <th>AI_P07F</th>\n",
              "      <td>1476</td>\n",
              "    </tr>\n",
              "    <tr>\n",
              "      <th>AI_P08F</th>\n",
              "      <td>1566</td>\n",
              "    </tr>\n",
              "    <tr>\n",
              "      <th>AI_P09F</th>\n",
              "      <td>1566</td>\n",
              "    </tr>\n",
              "    <tr>\n",
              "      <th>AI_P10F</th>\n",
              "      <td>1620</td>\n",
              "    </tr>\n",
              "    <tr>\n",
              "      <th>AI_P11F</th>\n",
              "      <td>1620</td>\n",
              "    </tr>\n",
              "    <tr>\n",
              "      <th>AI_P12F</th>\n",
              "      <td>1692</td>\n",
              "    </tr>\n",
              "    <tr>\n",
              "      <th>AI_PF</th>\n",
              "      <td>1278</td>\n",
              "    </tr>\n",
              "  </tbody>\n",
              "</table>\n",
              "</div><br><label><b>dtype:</b> int64</label>"
            ]
          },
          "metadata": {},
          "execution_count": 19
        }
      ]
    },
    {
      "cell_type": "markdown",
      "source": [
        "7. Forecasts distintos"
      ],
      "metadata": {
        "id": "AQdwU-iv8AbA"
      }
    },
    {
      "cell_type": "markdown",
      "source": [
        "Para contar cuántos tipos únicos de forecast (FORECAST) existen en el conjunto de datos para los registros de predicción (AI_forecast),  utilizamos .nunique() después de filtrar los datos.\n",
        "\n",
        "Esto nos dará el número total de valores únicos en la columna FORECAST para las predicciones."
      ],
      "metadata": {
        "id": "El1DlkIO8APg"
      }
    },
    {
      "cell_type": "code",
      "source": [
        "forecast_distintos = df['FORECAST'].nunique()\n",
        "print(f\"Forecasts distintos: {forecast_distintos}\")"
      ],
      "metadata": {
        "colab": {
          "base_uri": "https://localhost:8080/"
        },
        "id": "ihZBn8gmil99",
        "outputId": "cbfe982e-4c10-4176-b475-af3fa7d15e91"
      },
      "execution_count": 20,
      "outputs": [
        {
          "output_type": "stream",
          "name": "stdout",
          "text": [
            "Forecasts distintos: 12\n"
          ]
        }
      ]
    },
    {
      "cell_type": "markdown",
      "source": [
        "8. Distribución de ventas realizadas"
      ],
      "metadata": {
        "id": "hl8U3D3P8M-R"
      }
    },
    {
      "cell_type": "markdown",
      "source": [
        "Podemos hacer un análisis de cómo se distribuyen las ventas por país, mes y año, y por marca."
      ],
      "metadata": {
        "id": "Wii_TtdC8Piv"
      }
    },
    {
      "cell_type": "code",
      "source": [
        "# Distribución de ventas por país\n",
        "ventas_pais = df.groupby('COUNTRY')['AMOUNT'].sum()\n",
        "\n",
        "print(\"Distribución de ventas por país:\")\n",
        "print(ventas_pais)\n",
        "\n",
        "# Gráfico de la distribución de ventas por país\n",
        "plt.figure(figsize=(10, 6))\n",
        "ventas_pais.sort_values().plot(kind='barh', color='skyblue')\n",
        "plt.title('Distribución de Ventas por País')\n",
        "plt.xlabel('Ventas (Litros)')\n",
        "plt.ylabel('País')\n",
        "plt.tight_layout()\n",
        "plt.show()"
      ],
      "metadata": {
        "id": "XE4yTky4Zesm",
        "outputId": "223c967a-aa35-4f3c-f7a6-5ba3c6a977ff",
        "colab": {
          "base_uri": "https://localhost:8080/",
          "height": 600
        }
      },
      "execution_count": 21,
      "outputs": [
        {
          "output_type": "stream",
          "name": "stdout",
          "text": [
            "Distribución de ventas por país:\n",
            "COUNTRY\n",
            "Czech            6.384946e+08\n",
            "Denmark          3.173959e+09\n",
            "Great Britain    8.427775e+09\n",
            "Hungary          1.104465e+09\n",
            "Italy            5.058963e+08\n",
            "Netherlands      1.831524e+09\n",
            "Norway           1.858965e+09\n",
            "Portugal         3.871816e+08\n",
            "Spain            2.184936e+08\n",
            "Name: AMOUNT, dtype: float64\n"
          ]
        },
        {
          "output_type": "display_data",
          "data": {
            "text/plain": [
              "<Figure size 1000x600 with 1 Axes>"
            ],
            "image/png": "[encoded data removed]"
          },
          "metadata": {}
        }
      ]
    },
    {
      "cell_type": "markdown",
      "source": [
        "La gráfica nos muestra una distribución desigual en el volumen de ventas por país, destacándose Great Britain como el mercado dominante con aproximadamente 8.4 mil millones de litros, muy por encima del resto. Denmark ocupa el segundo lugar con 3.17 mil millones de litros, seguido por Norway y Netherlands, que tienen volúmenes de ventas similares, en torno a 1.8 mil millones cada uno, y luego Hungary con 1.1 mil millones. Por otro lado, Czech e Italy presentan volúmenes más bajos, con 638 y 505 millones de litros respectivamente, mientras que Portugal y Spain tienen las menores ventas, con 387 y 218 millones de litros. Esta diferencia nos sugiere que Great Britain y Denmark concentran gran parte del mercado, mientras que países como Portugal y Spain podrían representar oportunidades para ampliar la participación en ventas, dependiendo de la demanda y de las estrategias comerciales en esas regiones."
      ],
      "metadata": {
        "id": "dCNFA13DbG8T"
      }
    },
    {
      "cell_type": "code",
      "source": [
        "# Distribución de ventas por mes y año\n",
        "ventas_mes_anio = df.groupby(['YEAR', 'MONTH'])['AMOUNT'].sum()\n",
        "\n",
        "print(\"\\nDistribución de ventas por mes y año:\")\n",
        "print(ventas_mes_anio)\n",
        "\n",
        "# Gráfico de la distribución de ventas por mes y año\n",
        "plt.figure(figsize=(10, 6))\n",
        "ventas_mes_anio.plot(kind='line', marker='o', color='orange')\n",
        "plt.title('Distribución de Ventas por Mes y Año')\n",
        "plt.xlabel('Fecha (Año, Mes)')\n",
        "plt.ylabel('Ventas (Litros)')\n",
        "plt.xticks(rotation=45)\n",
        "plt.tight_layout()\n",
        "plt.show()"
      ],
      "metadata": {
        "id": "jvw8j894ZsZa",
        "outputId": "fcd2162d-5bd9-496a-c084-173f29f5be0d",
        "colab": {
          "base_uri": "https://localhost:8080/",
          "height": 965
        }
      },
      "execution_count": 22,
      "outputs": [
        {
          "output_type": "stream",
          "name": "stdout",
          "text": [
            "\n",
            "Distribución de ventas por mes y año:\n",
            "YEAR  MONTH\n",
            "2023  1        9.310165e+07\n",
            "      2        1.612275e+08\n",
            "      3        2.696923e+08\n",
            "      4        3.353694e+08\n",
            "      5        4.550054e+08\n",
            "      6        5.304364e+08\n",
            "      7        6.288473e+08\n",
            "      8        7.474676e+08\n",
            "      9        7.679450e+08\n",
            "      10       7.890140e+08\n",
            "      11       9.085069e+08\n",
            "      12       1.049411e+09\n",
            "2024  1        8.448844e+08\n",
            "      2        8.408047e+08\n",
            "      3        1.009033e+09\n",
            "      4        9.872097e+08\n",
            "      5        1.065666e+09\n",
            "      6        1.057691e+09\n",
            "      7        9.981979e+08\n",
            "      8        9.357902e+08\n",
            "      9        7.411355e+08\n",
            "      10       6.168697e+08\n",
            "      11       5.632671e+08\n",
            "      12       5.262705e+08\n",
            "2025  1        3.783377e+08\n",
            "      2        2.977278e+08\n",
            "      3        2.746941e+08\n",
            "      4        1.780384e+08\n",
            "      5        9.511169e+07\n",
            "Name: AMOUNT, dtype: float64\n"
          ]
        },
        {
          "output_type": "display_data",
          "data": {
            "text/plain": [
              "<Figure size 1000x600 with 1 Axes>"
            ],
            "image/png": "[encoded data removed]"
          },
          "metadata": {}
        }
      ]
    },
    {
      "cell_type": "markdown",
      "source": [
        "La gráfica muestra un aumento constante en las ventas durante 2023, comenzando en enero con aproximadamente 93 millones de litros y alcanzando un máximo de 1.05 mil millones en diciembre, lo que sugiere un crecimiento de la demanda o estrategias exitosas. En 2024, las ventas se mantienen elevadas y estables en el primer semestre, con un pico en mayo de alrededor de 1.07 mil millones de litros, seguido de un descenso gradual en el segundo semestre, alcanzando 526 millones en diciembre. Este patrón puede reflejar una estacionalidad en la demanda. En 2025, se observa una fuerte caída, con ventas que bajan de 378 millones en enero a 95 millones en mayo, lo que podría indicar un cambio en las condiciones del mercado o en la demanda. En generalpodemos ver que la gráfica sugiere un ciclo de crecimiento y estabilidad, seguido de una disminución."
      ],
      "metadata": {
        "id": "7wTVPSPucdFp"
      }
    },
    {
      "cell_type": "code",
      "source": [
        "# Distribución de ventas por marca\n",
        "ventas_marca = df.groupby('SUBBRAND')['AMOUNT'].sum()\n",
        "\n",
        "print(\"\\nDistribución de ventas por marca:\")\n",
        "print(ventas_marca)\n",
        "\n",
        "# Gráfico de la distribución de ventas por marca\n",
        "plt.figure(figsize=(10, 6))\n",
        "ventas_marca.sort_values().plot(kind='barh', color='green')\n",
        "plt.title('Distribución de Ventas por Marca')\n",
        "plt.xlabel('Ventas (Litros)')\n",
        "plt.ylabel('Marca')\n",
        "plt.tight_layout()\n",
        "plt.show()"
      ],
      "metadata": {
        "id": "cNsRQspSisKC",
        "outputId": "ec89af22-ba40-4ae7-b320-8a97e35a186c",
        "colab": {
          "base_uri": "https://localhost:8080/",
          "height": 566
        }
      },
      "execution_count": 23,
      "outputs": [
        {
          "output_type": "stream",
          "name": "stdout",
          "text": [
            "\n",
            "Distribución de ventas por marca:\n",
            "SUBBRAND\n",
            "7up (L3)              2.917746e+08\n",
            "7up Free (L3)         1.066603e+09\n",
            "Lipton (L3)           1.682028e+09\n",
            "Mountain Dew (L3)     1.316731e+08\n",
            "Pepsi Max (L3)        1.229538e+10\n",
            "Pepsi Regular (L3)    2.679291e+09\n",
            "Name: AMOUNT, dtype: float64\n"
          ]
        },
        {
          "output_type": "display_data",
          "data": {
            "text/plain": [
              "<Figure size 1000x600 with 1 Axes>"
            ],
            "image/png": "[encoded data removed]"
          },
          "metadata": {}
        }
      ]
    },
    {
      "cell_type": "markdown",
      "source": [
        "La gráfica muestra que **Pepsi Max (L3)** es la marca líder en ventas con aproximadamente 12.3 mil millones de litros, destacándose claramente sobre las demás marcas. Le sigue **Pepsi Regular (L3)** con 2.7 mil millones de litros, lo que también la coloca en una posición significativa, aunque distante de Pepsi Max. En el rango medio se encuentran **Lipton (L3)** y **7up Free (L3)** con volúmenes de ventas de 1.7 mil millones y 1.06 mil millones de litros, respectivamente. Las marcas con menor volumen de ventas son **7up (L3)** y **Mountain Dew (L3)**, con 291 millones y 131 millones de litros, respectivamente. Esto sugiere que los productos de Pepsi dominan las ventas, en particular Pepsi Max, mientras que las otras marcas tienen una participación más modesta, posiblemente debido a diferencias en la demanda del consumidor o en las estrategias de mercado para cada producto."
      ],
      "metadata": {
        "id": "Q7q2Eam0KwXw"
      }
    },
    {
      "cell_type": "markdown",
      "source": [
        "9. Tendencia y estacionalidad"
      ],
      "metadata": {
        "id": "Jh4oQpgO8vdZ"
      }
    },
    {
      "cell_type": "markdown",
      "source": [
        "Vamos a analizar la tendencia y estacionalidad de las ventas del país con menos ventas y la marca con más ventas."
      ],
      "metadata": {
        "id": "ZryjL-pK8yLy"
      }
    },
    {
      "cell_type": "markdown",
      "source": [
        "Primero agrupamos los datos por país y marca, sumamos las ventas de cada grupo (AMOUNT), y encontramos el país con menos ventas.\n",
        "\n",
        "Como nos interesa ver cómo cambian las ventas mes a mes, agrupamos las ventas mensuales por año y mes."
      ],
      "metadata": {
        "id": "hg44qI2ENGfC"
      }
    },
    {
      "cell_type": "code",
      "source": [
        "# País con menos ventas\n",
        "pais_menos_ventas = df.groupby('COUNTRY')['AMOUNT'].sum().idxmin()\n",
        "ventas_pais_menos = df[df['COUNTRY'] == pais_menos_ventas].groupby(['YEAR', 'MONTH'])['AMOUNT'].sum()\n",
        "\n",
        "print(f\"País con menos ventas: {pais_menos_ventas}\")"
      ],
      "metadata": {
        "id": "wh2YK_TqMJB4",
        "outputId": "6fb1e543-c8f4-4a2e-d963-fe2a1e1e7831",
        "colab": {
          "base_uri": "https://localhost:8080/"
        }
      },
      "execution_count": 24,
      "outputs": [
        {
          "output_type": "stream",
          "name": "stdout",
          "text": [
            "País con menos ventas: Spain\n"
          ]
        }
      ]
    },
    {
      "cell_type": "markdown",
      "source": [
        "Generamos un gráfico de líneas, que es el más ideal para visualizar como cambian las ventas a lo largo del tiempo, lo que nos permite detectar tendencias y estacionalidad en los datos.\n",
        "\n",
        "Cada punto representa el volumen de ventas en un mes específico, y las líneas conectan estos puntos para mostrar la evolución temporal."
      ],
      "metadata": {
        "id": "wsG9vPFgOEgm"
      }
    },
    {
      "cell_type": "code",
      "source": [
        "# Gráfico de tendencia para el país con menos ventas\n",
        "plt.figure(figsize=(10, 6))\n",
        "ventas_pais_menos.plot(kind='line', marker='o', color='red')\n",
        "plt.title(f'Tendencia de Ventas en {pais_menos_ventas} (País con Menos Ventas)')\n",
        "plt.xlabel('Fecha (Año, Mes)')\n",
        "plt.ylabel('Ventas')\n",
        "plt.xticks(rotation=45)\n",
        "plt.grid(True)\n",
        "plt.tight_layout()\n",
        "plt.show()"
      ],
      "metadata": {
        "id": "UkpPqG1RMYOk",
        "outputId": "a75c9faf-e2bd-421f-93f7-b2a4452925ed",
        "colab": {
          "base_uri": "https://localhost:8080/",
          "height": 392
        }
      },
      "execution_count": 25,
      "outputs": [
        {
          "output_type": "display_data",
          "data": {
            "text/plain": [
              "<Figure size 1000x600 with 1 Axes>"
            ],
            "image/png": "[encoded data removed]"
          },
          "metadata": {}
        }
      ]
    },
    {
      "cell_type": "markdown",
      "source": [
        "Se observa un crecimiento constante desde enero de 2023, alcanzando su punto máximo en agosto de 2024, seguido de una disminución."
      ],
      "metadata": {
        "id": "Tv0U0_EAMv3B"
      }
    },
    {
      "cell_type": "code",
      "source": [
        "# Gráfico de estacionalidad para el país con menos ventas\n",
        "ventas_pais_menos_estacionalidad = df[df['COUNTRY'] == pais_menos_ventas].groupby('MONTH')['AMOUNT'].mean()\n",
        "plt.figure(figsize=(10, 6))\n",
        "ventas_pais_menos_estacionalidad.plot(kind='bar', color='salmon')\n",
        "plt.title(f'Estacionalidad de Ventas en {pais_menos_ventas} (Promedio Mensual)')\n",
        "plt.xlabel('Mes')\n",
        "plt.ylabel('Ventas Promedio')\n",
        "plt.grid(True)\n",
        "plt.tight_layout()\n",
        "plt.show()\n"
      ],
      "metadata": {
        "id": "hPFG-MlIvlbB",
        "outputId": "7e8c96df-ec50-4049-9ce1-56a40dd6d1ce",
        "colab": {
          "base_uri": "https://localhost:8080/",
          "height": 392
        }
      },
      "execution_count": 26,
      "outputs": [
        {
          "output_type": "display_data",
          "data": {
            "text/plain": [
              "<Figure size 1000x600 with 1 Axes>"
            ],
            "image/png": "[encoded data removed]"
          },
          "metadata": {}
        }
      ]
    },
    {
      "cell_type": "markdown",
      "source": [
        "La gráfica de estacionalidad de ventas en **Spain** muestra el promedio mensual de ventas en litros, indicando un patrón consistente a lo largo del año. Observamos que los meses de **junio, julio y agosto** presentan los niveles de ventas más altos, alcanzando un promedio superior a 120,000 litros. Esto sugiere una estacionalidad marcada, posiblemente relacionada con la temporada de verano, cuando la demanda de bebidas suele aumentar. Los meses de **febrero, marzo y diciembre** muestran un promedio de ventas más bajo en comparación, aunque la diferencia con los meses de mayor venta no es extremadamente significativa. En general, la estacionalidad de ventas en **Spain** parece seguir un patrón predecible, con picos en los meses cálidos y una ligera reducción en los meses restantes."
      ],
      "metadata": {
        "id": "i6rDGnFGwF6j"
      }
    },
    {
      "cell_type": "markdown",
      "source": [
        "Realizamos los pasos anteriores pero en vez de identificar el país con menos ventas, ahora queremos encontrar la marca con más ventas."
      ],
      "metadata": {
        "id": "6bDc4OA0Oi1P"
      }
    },
    {
      "cell_type": "code",
      "source": [
        "# Marca con más ventas\n",
        "marca_mas_ventas = df.groupby('SUBBRAND')['AMOUNT'].sum().idxmax()\n",
        "ventas_marca_mas = df[df['SUBBRAND'] == marca_mas_ventas].groupby(['YEAR', 'MONTH'])['AMOUNT'].sum()\n",
        "\n",
        "print(f\"Marca con más ventas: {marca_mas_ventas}\")"
      ],
      "metadata": {
        "id": "mD6yQ_a5LiFe"
      },
      "execution_count": null,
      "outputs": []
    },
    {
      "cell_type": "markdown",
      "source": [
        "Generamos el gráfico que nos permitirá tener una mejor visualización de la temporalidad."
      ],
      "metadata": {
        "id": "QRkHled4PBPh"
      }
    },
    {
      "cell_type": "code",
      "source": [
        "# Gráfico de tendencia para la marca con más ventas\n",
        "plt.figure(figsize=(10, 6))\n",
        "ventas_marca_mas.plot(kind='line', marker='o', color='blue')\n",
        "plt.title(f'Tendencia y Estacionalidad de Ventas para {marca_mas_ventas} (Marca con Más Ventas)')\n",
        "plt.xlabel('Fecha (Año, Mes)')\n",
        "plt.ylabel('Ventas (Litros)')\n",
        "plt.xticks(rotation=45)\n",
        "plt.grid(True)\n",
        "plt.tight_layout()\n",
        "plt.show()"
      ],
      "metadata": {
        "id": "V6fipPt1Mjnk"
      },
      "execution_count": null,
      "outputs": []
    },
    {
      "cell_type": "markdown",
      "source": [
        "Las ventas de Pepsi Max siguen una tendencia similar, con un aumento desde principios de 2023, alcanzando su máximo a finales de 2023, y luego disminuyendo de manera sostenida."
      ],
      "metadata": {
        "id": "-oVQd9IFLhjm"
      }
    },
    {
      "cell_type": "code",
      "source": [
        "# Gráfico de estacionalidad para la marca con más ventas\n",
        "ventas_marca_mas_estacionalidad = df[df['SUBBRAND'] == marca_mas_ventas].groupby('MONTH')['AMOUNT'].mean()\n",
        "plt.figure(figsize=(10, 6))\n",
        "ventas_marca_mas_estacionalidad.plot(kind='bar', color='skyblue')\n",
        "plt.title(f'Estacionalidad de Ventas para {marca_mas_ventas} (Promedio Mensual)')\n",
        "plt.xlabel('Mes')\n",
        "plt.ylabel('Ventas Promedio (Litros)')\n",
        "plt.grid(True)\n",
        "plt.tight_layout()\n",
        "plt.show()"
      ],
      "metadata": {
        "id": "CWXL_cPcvv79"
      },
      "execution_count": null,
      "outputs": []
    },
    {
      "cell_type": "markdown",
      "source": [
        "La gráfica de estacionalidad de ventas para **Pepsi Max (L3)** muestra el promedio mensual de ventas en litros, con una distribución bastante uniforme a lo largo del año. Los meses de **junio, julio y agosto** presentan un ligero aumento, con ventas promedio cercanas a los 2.5 millones de litros, lo cual podría indicar un aumento en la demanda durante el verano. Sin embargo, la diferencia en ventas entre los meses es moderada, sugiriendo que **Pepsi Max (L3)** tiene una demanda estable y consistente en todas las estaciones. Esta estabilidad podría reflejar una preferencia continua de los consumidores por este producto durante todo el año, sin una marcada estacionalidad, aunque con una leve preferencia en los meses de clima cálido."
      ],
      "metadata": {
        "id": "Qjd2AOPGwPwH"
      }
    },
    {
      "cell_type": "markdown",
      "source": [
        "10. Predicciones en España y precisión"
      ],
      "metadata": {
        "id": "ICF6KN9b9ewO"
      }
    },
    {
      "cell_type": "markdown",
      "source": [
        "Queremos comparar las predicciones con las ventas reales específicamente para España.\n",
        "\n",
        "- AI_forecast indica las predicciones, por eso filtramos esas filas en predicciones_espana.\n",
        "- actual indica las ventas reales, que almacenamos en ventas_reales_espana."
      ],
      "metadata": {
        "id": "Iw3_2MjN9jo1"
      }
    },
    {
      "cell_type": "code",
      "source": [
        "predicciones_espana = df[(df['COUNTRY'] == 'Spain') & (df['SCENARIO'] == 'AI_forecast')]\n",
        "ventas_reales_espana = df[(df['COUNTRY'] == 'Spain') & (df['SCENARIO'] == 'actual')]"
      ],
      "metadata": {
        "id": "HzvZyMSjQmD7"
      },
      "execution_count": null,
      "outputs": []
    },
    {
      "cell_type": "markdown",
      "source": [
        "Con la función merge combinamos las predicciones con las ventas reales basándonos en: YEAR, MONTH y SUBBRAND\n",
        "\n",
        "Esto nos asegura que estamos comparando la predicción correcta con la venta real del mismo producto en el mismo periodo de tiempo."
      ],
      "metadata": {
        "id": "QV93lhg6ROzI"
      }
    },
    {
      "cell_type": "code",
      "source": [
        "comparacion_general = pd.merge(predicciones_espana, ventas_reales_espana, on=['YEAR', 'MONTH', 'SUBBRAND'], suffixes=('_pred', '_real'))"
      ],
      "metadata": {
        "id": "ULwtbqSURLft"
      },
      "execution_count": null,
      "outputs": []
    },
    {
      "cell_type": "markdown",
      "source": [
        "Queremos medir la precisión de las predicciones. Para ello calculamos el  error absoluto, que es la diferencia entre la precicción y la venta real, y el error porcentual nos da una idea del tamaño del error relativo a las ventas reales."
      ],
      "metadata": {
        "id": "GpheR_YBRzhj"
      }
    },
    {
      "cell_type": "code",
      "source": [
        "comparacion_general['Error_Absoluto'] = abs(comparacion_general['AMOUNT_pred'] - comparacion_general['AMOUNT_real'])\n",
        "comparacion_general['Error_Porcentual'] = (comparacion_general['Error_Absoluto'] / comparacion_general['AMOUNT_real']) * 100"
      ],
      "metadata": {
        "id": "m87TXQzSR0IZ"
      },
      "execution_count": null,
      "outputs": []
    },
    {
      "cell_type": "markdown",
      "source": [
        "Mostramos los resultados de la comparación, incluyendo los valores predichos, los valores reales y los errores."
      ],
      "metadata": {
        "id": "34whKT8PSg4m"
      }
    },
    {
      "cell_type": "code",
      "source": [
        "comparacion_general[['YEAR', 'MONTH', 'SUBBRAND', 'AMOUNT_pred', 'AMOUNT_real', 'Error_Absoluto', 'Error_Porcentual']].head()"
      ],
      "metadata": {
        "id": "6v3EWZXrSf7w"
      },
      "execution_count": null,
      "outputs": []
    },
    {
      "cell_type": "markdown",
      "source": [
        "Para comprobar que las predicciones son buenas podemos hacerlo calculando el Error Absoluto Promedio y el Error Porcentual Promedio."
      ],
      "metadata": {
        "id": "U-sGmFPLTtVL"
      }
    },
    {
      "cell_type": "code",
      "source": [
        "MAE = comparacion_general['Error_Absoluto'].mean()\n",
        "MAPE = comparacion_general['Error_Porcentual'].mean()\n",
        "\n",
        "print(f\"Error Absoluto Promedio (MAE): {MAE}\")\n",
        "print(f\"Error Porcentual Promedio (MAPE): {MAPE}\")"
      ],
      "metadata": {
        "id": "FkK56qtaUgdq"
      },
      "execution_count": null,
      "outputs": []
    },
    {
      "cell_type": "markdown",
      "source": [
        "En general, las predicciones son moderadamente precisas, con un error porcentual promedio por debajo del 20%. Esto indica que, aunque las predicciones no son perfectas, están relativamente cerca de las ventas reales en la mayoría de los casos."
      ],
      "metadata": {
        "id": "7n4mzESZUnGX"
      }
    },
    {
      "cell_type": "markdown",
      "source": [
        "También podemos llegar a esta conclusión utilizando gráficos para comparar las predicciones reales contra los valores reales de la siguiente manera."
      ],
      "metadata": {
        "id": "cffaGxRqn4hV"
      }
    },
    {
      "cell_type": "markdown",
      "source": [
        "Filtramos las predicciones y las ventas reales en España"
      ],
      "metadata": {
        "id": "vJ32XX2eo-V_"
      }
    },
    {
      "cell_type": "code",
      "source": [
        "predicciones_espana = df[(df['COUNTRY'] == 'Spain') & (df['SCENARIO'] == 'AI_forecast')]\n",
        "ventas_reales_espana = df[(df['COUNTRY'] == 'Spain') & (df['SCENARIO'] == 'actual')]"
      ],
      "metadata": {
        "id": "ejT9cRRKo-51"
      },
      "execution_count": null,
      "outputs": []
    },
    {
      "cell_type": "markdown",
      "source": [
        "Combinamos las predicciones y las ventas reales por periodo y producto"
      ],
      "metadata": {
        "id": "jHQbJ36SpOMX"
      }
    },
    {
      "cell_type": "code",
      "source": [
        "comparacion_general = pd.merge(predicciones_espana, ventas_reales_espana, on=['YEAR', 'MONTH', 'SUBBRAND'], suffixes=('_pred', '_real'))"
      ],
      "metadata": {
        "id": "0jGVEVDipYqe"
      },
      "execution_count": null,
      "outputs": []
    },
    {
      "cell_type": "markdown",
      "source": [
        "Calculamos el promedio mensual de las predicciones y ventas reales."
      ],
      "metadata": {
        "id": "5bBNNo0-pbpe"
      }
    },
    {
      "cell_type": "code",
      "source": [
        "comparacion_promedio = comparacion_general.groupby(['YEAR', 'MONTH', 'SUBBRAND']).agg(\n",
        "    AMOUNT_pred=('AMOUNT_pred', 'mean'),\n",
        "    AMOUNT_real=('AMOUNT_real', 'mean')\n",
        ").reset_index()"
      ],
      "metadata": {
        "id": "vmJ6SHAUphPq"
      },
      "execution_count": null,
      "outputs": []
    },
    {
      "cell_type": "markdown",
      "source": [
        "Creamos los gráficos de líneas para cada producto."
      ],
      "metadata": {
        "id": "j73knsjkpkkk"
      }
    },
    {
      "cell_type": "code",
      "source": [
        "for producto in comparacion_promedio['SUBBRAND'].unique():\n",
        "    datos_producto = comparacion_promedio[comparacion_promedio['SUBBRAND'] == producto]\n",
        "    plt.figure(figsize=(10, 6))\n",
        "    plt.plot(datos_producto['YEAR'].astype(str) + '-' + datos_producto['MONTH'].astype(str),\n",
        "             datos_producto['AMOUNT_pred'], label='Predicción Promedio', color='blue', marker='o')\n",
        "    plt.plot(datos_producto['YEAR'].astype(str) + '-' + datos_producto['MONTH'].astype(str),\n",
        "             datos_producto['AMOUNT_real'], label='Real', color='green', marker='x')\n",
        "    plt.title(f'Predicciones Promedio vs. Ventas Reales - {producto}')\n",
        "    plt.xlabel('Fecha')\n",
        "    plt.ylabel('Ventas (Litros)')\n",
        "    plt.legend()\n",
        "    plt.xticks(rotation=45)\n",
        "    plt.grid(True)\n",
        "    plt.tight_layout()\n",
        "    plt.show()\n"
      ],
      "metadata": {
        "id": "nZ5HXZddm5c9"
      },
      "execution_count": null,
      "outputs": []
    },
    {
      "cell_type": "markdown",
      "source": [
        "Los resultados tienen sentido en general, ya que las predicciones promedio siguen la tendencia de las ventas reales en la mayoría de los productos, lo cual indica que el modelo captura bien la dirección general de las ventas. Sin embargo, hay algunas desviaciones notables en ciertos meses, donde las predicciones no coinciden con los picos o valles de las ventas reales; esto podría deberse a eventos específicos (como promociones o factores estacionales) que el modelo no ha considerado."
      ],
      "metadata": {
        "id": "GhCnTnnTofoV"
      }
    }
  ]
}